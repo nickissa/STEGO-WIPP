{
 "cells": [
  {
   "cell_type": "markdown",
   "metadata": {
    "id": "N-CjEZdF5DSH"
   },
   "source": [
    "# Download Pretrained Model\n",
    "\n"
   ]
  },
  {
   "cell_type": "code",
   "execution_count": 1,
   "metadata": {
    "id": "hJ_XE2xHcImN"
   },
   "outputs": [],
   "source": [
    "import os\n",
    "from os.path import join\n",
    "# ROOT_DIR = os.path.abspath(\"STEGOTest/\")\n",
    "srcDIR = \"/home/robotics/Documents/ARCJupyter/STEGOTest/src/\"\n",
    "os.chdir(srcDIR)\n",
    "saved_models_dir = join(\"..\", \"saved_models\")\n",
    "os.makedirs(saved_models_dir, exist_ok=True)"
   ]
  },
  {
   "cell_type": "code",
   "execution_count": 2,
   "metadata": {
    "id": "knywSO7IcNc2"
   },
   "outputs": [],
   "source": [
    "import wget\n",
    "saved_model_url_root = \"https://marhamilresearch4.blob.core.windows.net/stego-public/saved_models/\"\n",
    "saved_model_name = \"cocostuff27_vit_base_5.ckpt\"\n",
    "if not os.path.exists(join(saved_models_dir, saved_model_name)):\n",
    "    wget.download(saved_model_url_root + saved_model_name, join(saved_models_dir, saved_model_name))"
   ]
  },
  {
   "cell_type": "markdown",
   "metadata": {
    "id": "rtwTZEkA7twI"
   },
   "source": [
    "# Load pretrained STEGO"
   ]
  },
  {
   "cell_type": "code",
   "execution_count": 3,
   "metadata": {
    "colab": {
     "base_uri": "https://localhost:8080/",
     "height": 104,
     "referenced_widgets": [
      "5fa05203c234442a8c863a51f83bac9d",
      "7cf007c8f7a94bc292f8243391cea7ca",
      "5fa6b3215e01491d9534feadee79f706",
      "41d2dacf744d4ecaa1f51174a6703334",
      "d5faaf8d200a4bbf9c1e9677af8fe257",
      "aeb7614c4d7e41eeab603a70fc80ed6a",
      "41986d51df5b41d79187acaebafe3008",
      "e2ad8a86c24c419581c204fd2ae2ba18",
      "811c526bd6154969b7028307dcafd550",
      "2d1d907c0d04492097e35a9ceddea9a2",
      "6de033864a1b4397a93147091aedda65"
     ]
    },
    "id": "RyBXeiGjdN8I",
    "outputId": "33ae5c14-857a-48d5-cd4b-803daf82c326"
   },
   "outputs": [
    {
     "name": "stderr",
     "output_type": "stream",
     "text": [
      "<frozen importlib._bootstrap>:219: RuntimeWarning: scipy._lib.messagestream.MessageStream size changed, may indicate binary incompatibility. Expected 56 from C header, got 64 from PyObject\n",
      "/home/robotics/Documents/ARCJupyter/STEGOTest/src/train_segmentation.py:387: UserWarning: \n",
      "The version_base parameter is not specified.\n",
      "Please specify a compatability version level, or None.\n",
      "Will assume defaults for version 1.1\n",
      "  @hydra.main(config_path=\"configs\", config_name=\"train_config.yml\")\n",
      "/home/robotics/anaconda3/envs/pysource/lib/python3.8/site-packages/pytorch_lightning/utilities/migration/migration.py:201: PossibleUserWarning: You have multiple `ModelCheckpoint` callback states in this checkpoint, but we found state keys that would end up colliding with each other after an upgrade, which means we can't differentiate which of your checkpoint callbacks needs which states. At least one of your `ModelCheckpoint` callbacks will not be able to reload the state.\n",
      "  rank_zero_warn(\n",
      "Lightning automatically upgraded your loaded checkpoint from v1.4.5 to v2.0.1. To apply the upgrade to your files permanently, run `python -m pytorch_lightning.utilities.upgrade_checkpoint --file ../saved_models/cocostuff27_vit_base_5.ckpt`\n"
     ]
    },
    {
     "name": "stdout",
     "output_type": "stream",
     "text": [
      "Since no pretrained weights have been provided, we load the reference pretrained DINO weights.\n"
     ]
    }
   ],
   "source": [
    "from train_segmentation import LitUnsupervisedSegmenter\n",
    "\n",
    "# This uses DINO weights since it won't find any other ones\n",
    "model = LitUnsupervisedSegmenter.load_from_checkpoint(join(saved_models_dir, saved_model_name)).cuda()"
   ]
  },
  {
   "cell_type": "markdown",
   "metadata": {
    "id": "ATktWg_hBbuS"
   },
   "source": [
    "# Imports"
   ]
  },
  {
   "cell_type": "code",
   "execution_count": 4,
   "metadata": {
    "colab": {
     "base_uri": "https://localhost:8080/"
    },
    "id": "Ku-prYXZ8quf",
    "outputId": "f3c132f1-f380-4431-ed6d-7d158d3af41b"
   },
   "outputs": [],
   "source": [
    "from PIL import Image\n",
    "import requests\n",
    "from io import BytesIO\n",
    "from torchvision.transforms.functional import to_tensor\n",
    "from utils import get_transform\n",
    "import cv2\n",
    "import torch.nn.functional as F\n",
    "from crf import dense_crf\n",
    "import torch\n",
    "import time\n",
    "import numpy as np\n",
    "\n",
    "# # Visualize with plots\n",
    "# import matplotlib.pyplot as plt\n",
    "# from utils import unnorm, remove_axes\n",
    "# %matplotlib inline"
   ]
  },
  {
   "cell_type": "markdown",
   "metadata": {
    "id": "5xXhpW6BBeWz"
   },
   "source": [
    "# Query model and pass result through CRF"
   ]
  },
  {
   "cell_type": "code",
   "execution_count": 5,
   "metadata": {
    "id": "e0hvX1KX30SC",
    "scrolled": true
   },
   "outputs": [
    {
     "name": "stdout",
     "output_type": "stream",
     "text": [
      "Total Time Taken: 8.635258456071218 min(s)\n"
     ]
    }
   ],
   "source": [
    "# Pre-recorded video\n",
    "vid = cv2.VideoCapture('/home/robotics/Documents/ARCJupyter/STEGOTest/src/videos/ARC_Video.MOV')\n",
    "\n",
    "# Resolution of vid\n",
    "# size = (\n",
    "#     int(vid.get(cv2.CAP_PROP_FRAME_WIDTH)),\n",
    "#     int(vid.get(cv2.CAP_PROP_FRAME_HEIGHT))\n",
    "# )\n",
    "\n",
    "# Resolution has to be 448 x 448 since that's what STEGO's numpy shape is\n",
    "# Maybe try to change this or enlargen the final shape to 1920 x 1080\n",
    "size = (448, 448)\n",
    "\n",
    "vidDIR = '/home/robotics/Documents/ARCJupyter/STEGOTest/src/videos/processed/'\n",
    "\n",
    "# Set properties of output video/image to be read in\n",
    "codec = cv2.VideoWriter_fourcc(*'DIVX')\n",
    "output = cv2.VideoWriter(os.path.join(vidDIR, 'ARCSTEGO_448x448_30fps.avi'), codec, 30.0, size)\n",
    "\n",
    "filename = 'tempimage.png'\n",
    "tempimgDIR = '/home/robotics/Documents/ARCJupyter/STEGOTest/src/videos/tempimages/'\n",
    "os.chdir(tempimgDIR)\n",
    "\n",
    "starttime = time.time()\n",
    "\n",
    "while(True):\n",
    "    ret, frame = vid.read()\n",
    "    if ret == False:\n",
    "        break\n",
    "        \n",
    "    # Read in images/video\n",
    "    \n",
    "#    # APPROACH #1\n",
    "# --------------------------------------------------------------------------------------------------\n",
    "#    # This approach is interesting because its got a blue tint with some edge/object identification\n",
    "#     img = Image.fromarray(frame, mode=\"RGB\")\n",
    "#     transform = get_transform(448, False, \"center\")\n",
    "#     img = transform(img).unsqueeze(0).cuda()\n",
    "# --------------------------------------------------------------------------------------------------\n",
    "    \n",
    "    # APPROACH #2\n",
    "# --------------------------------------------------------------------------------------------------\n",
    "    # Save frame as 'tempimage.png' each time and process that file\n",
    "    cv2.imwrite(filename, frame)\n",
    "    img = cv2.imread(os.path.join(tempimgDIR, filename))\n",
    "    img = Image.fromarray(img, mode=\"RGB\")\n",
    "    transform = get_transform(448, False, \"center\")\n",
    "    img = transform(img).unsqueeze(0).cuda()\n",
    "# --------------------------------------------------------------------------------------------------\n",
    "    \n",
    "    # Process images/video\n",
    "    with torch.no_grad():\n",
    "        code1 = model(img)\n",
    "        code2 = model(img.flip(dims=[3]))\n",
    "        code  = (code1 + code2.flip(dims=[3])) / 2\n",
    "        code = F.interpolate(code, img.shape[-2:], mode='bilinear', align_corners=False)\n",
    "        linear_probs = torch.log_softmax(model.linear_probe(code), dim=1).cpu()\n",
    "        cluster_probs = model.cluster_probe(code, 2, log_probs=True).cpu()\n",
    "\n",
    "        single_img = img[0].cpu()\n",
    "        linear_pred = dense_crf(single_img, linear_probs[0]).argmax(0)\n",
    "        cluster_pred = dense_crf(single_img, cluster_probs[0]).argmax(0)\n",
    "    \n",
    "        linearres = model.label_cmap[linear_pred].astype('uint8')\n",
    "        clusterres = model.label_cmap[cluster_pred].astype('uint8')\n",
    "        \n",
    "        # Save processed images/video\n",
    "        output.write(linearres)\n",
    "        #cv2.imshow('Cluster Predictions', clusterres)\n",
    "        cv2.imshow('Linear Predictions', linearres)\n",
    "\n",
    "        if cv2.waitKey(1) & 0xFF == ord('q'):\n",
    "            break\n",
    "\n",
    "vid.release()\n",
    "output.release()\n",
    "cv2.destroyAllWindows()\n",
    "\n",
    "endtime = time.time()\n",
    "totaltime = endtime - starttime\n",
    "print('Total Time Taken:', totaltime / 60, 'min(s)')"
   ]
  },
  {
   "cell_type": "code",
   "execution_count": null,
   "metadata": {},
   "outputs": [],
   "source": []
  }
 ],
 "metadata": {
  "accelerator": "GPU",
  "colab": {
   "name": "STEGO Colab Demo.ipynb",
   "provenance": []
  },
  "kernelspec": {
   "display_name": "Python 3 (ipykernel)",
   "language": "python",
   "name": "python3"
  },
  "language_info": {
   "codemirror_mode": {
    "name": "ipython",
    "version": 3
   },
   "file_extension": ".py",
   "mimetype": "text/x-python",
   "name": "python",
   "nbconvert_exporter": "python",
   "pygments_lexer": "ipython3",
   "version": "3.8.16"
  },
  "widgets": {
   "application/vnd.jupyter.widget-state+json": {
    "2d1d907c0d04492097e35a9ceddea9a2": {
     "model_module": "@jupyter-widgets/base",
     "model_module_version": "1.2.0",
     "model_name": "LayoutModel",
     "state": {
      "_model_module": "@jupyter-widgets/base",
      "_model_module_version": "1.2.0",
      "_model_name": "LayoutModel",
      "_view_count": null,
      "_view_module": "@jupyter-widgets/base",
      "_view_module_version": "1.2.0",
      "_view_name": "LayoutView",
      "align_content": null,
      "align_items": null,
      "align_self": null,
      "border": null,
      "bottom": null,
      "display": null,
      "flex": null,
      "flex_flow": null,
      "grid_area": null,
      "grid_auto_columns": null,
      "grid_auto_flow": null,
      "grid_auto_rows": null,
      "grid_column": null,
      "grid_gap": null,
      "grid_row": null,
      "grid_template_areas": null,
      "grid_template_columns": null,
      "grid_template_rows": null,
      "height": null,
      "justify_content": null,
      "justify_items": null,
      "left": null,
      "margin": null,
      "max_height": null,
      "max_width": null,
      "min_height": null,
      "min_width": null,
      "object_fit": null,
      "object_position": null,
      "order": null,
      "overflow": null,
      "overflow_x": null,
      "overflow_y": null,
      "padding": null,
      "right": null,
      "top": null,
      "visibility": null,
      "width": null
     }
    },
    "41986d51df5b41d79187acaebafe3008": {
     "model_module": "@jupyter-widgets/controls",
     "model_module_version": "1.5.0",
     "model_name": "DescriptionStyleModel",
     "state": {
      "_model_module": "@jupyter-widgets/controls",
      "_model_module_version": "1.5.0",
      "_model_name": "DescriptionStyleModel",
      "_view_count": null,
      "_view_module": "@jupyter-widgets/base",
      "_view_module_version": "1.2.0",
      "_view_name": "StyleView",
      "description_width": ""
     }
    },
    "41d2dacf744d4ecaa1f51174a6703334": {
     "model_module": "@jupyter-widgets/controls",
     "model_module_version": "1.5.0",
     "model_name": "HTMLModel",
     "state": {
      "_dom_classes": [],
      "_model_module": "@jupyter-widgets/controls",
      "_model_module_version": "1.5.0",
      "_model_name": "HTMLModel",
      "_view_count": null,
      "_view_module": "@jupyter-widgets/controls",
      "_view_module_version": "1.5.0",
      "_view_name": "HTMLView",
      "description": "",
      "description_tooltip": null,
      "layout": "IPY_MODEL_2d1d907c0d04492097e35a9ceddea9a2",
      "placeholder": "​",
      "style": "IPY_MODEL_6de033864a1b4397a93147091aedda65",
      "value": " 327M/327M [00:15&lt;00:00, 25.4MB/s]"
     }
    },
    "5fa05203c234442a8c863a51f83bac9d": {
     "model_module": "@jupyter-widgets/controls",
     "model_module_version": "1.5.0",
     "model_name": "HBoxModel",
     "state": {
      "_dom_classes": [],
      "_model_module": "@jupyter-widgets/controls",
      "_model_module_version": "1.5.0",
      "_model_name": "HBoxModel",
      "_view_count": null,
      "_view_module": "@jupyter-widgets/controls",
      "_view_module_version": "1.5.0",
      "_view_name": "HBoxView",
      "box_style": "",
      "children": [
       "IPY_MODEL_7cf007c8f7a94bc292f8243391cea7ca",
       "IPY_MODEL_5fa6b3215e01491d9534feadee79f706",
       "IPY_MODEL_41d2dacf744d4ecaa1f51174a6703334"
      ],
      "layout": "IPY_MODEL_d5faaf8d200a4bbf9c1e9677af8fe257"
     }
    },
    "5fa6b3215e01491d9534feadee79f706": {
     "model_module": "@jupyter-widgets/controls",
     "model_module_version": "1.5.0",
     "model_name": "FloatProgressModel",
     "state": {
      "_dom_classes": [],
      "_model_module": "@jupyter-widgets/controls",
      "_model_module_version": "1.5.0",
      "_model_name": "FloatProgressModel",
      "_view_count": null,
      "_view_module": "@jupyter-widgets/controls",
      "_view_module_version": "1.5.0",
      "_view_name": "ProgressView",
      "bar_style": "success",
      "description": "",
      "description_tooltip": null,
      "layout": "IPY_MODEL_e2ad8a86c24c419581c204fd2ae2ba18",
      "max": 343279349,
      "min": 0,
      "orientation": "horizontal",
      "style": "IPY_MODEL_811c526bd6154969b7028307dcafd550",
      "value": 343279349
     }
    },
    "6de033864a1b4397a93147091aedda65": {
     "model_module": "@jupyter-widgets/controls",
     "model_module_version": "1.5.0",
     "model_name": "DescriptionStyleModel",
     "state": {
      "_model_module": "@jupyter-widgets/controls",
      "_model_module_version": "1.5.0",
      "_model_name": "DescriptionStyleModel",
      "_view_count": null,
      "_view_module": "@jupyter-widgets/base",
      "_view_module_version": "1.2.0",
      "_view_name": "StyleView",
      "description_width": ""
     }
    },
    "7cf007c8f7a94bc292f8243391cea7ca": {
     "model_module": "@jupyter-widgets/controls",
     "model_module_version": "1.5.0",
     "model_name": "HTMLModel",
     "state": {
      "_dom_classes": [],
      "_model_module": "@jupyter-widgets/controls",
      "_model_module_version": "1.5.0",
      "_model_name": "HTMLModel",
      "_view_count": null,
      "_view_module": "@jupyter-widgets/controls",
      "_view_module_version": "1.5.0",
      "_view_name": "HTMLView",
      "description": "",
      "description_tooltip": null,
      "layout": "IPY_MODEL_aeb7614c4d7e41eeab603a70fc80ed6a",
      "placeholder": "​",
      "style": "IPY_MODEL_41986d51df5b41d79187acaebafe3008",
      "value": "100%"
     }
    },
    "811c526bd6154969b7028307dcafd550": {
     "model_module": "@jupyter-widgets/controls",
     "model_module_version": "1.5.0",
     "model_name": "ProgressStyleModel",
     "state": {
      "_model_module": "@jupyter-widgets/controls",
      "_model_module_version": "1.5.0",
      "_model_name": "ProgressStyleModel",
      "_view_count": null,
      "_view_module": "@jupyter-widgets/base",
      "_view_module_version": "1.2.0",
      "_view_name": "StyleView",
      "bar_color": null,
      "description_width": ""
     }
    },
    "aeb7614c4d7e41eeab603a70fc80ed6a": {
     "model_module": "@jupyter-widgets/base",
     "model_module_version": "1.2.0",
     "model_name": "LayoutModel",
     "state": {
      "_model_module": "@jupyter-widgets/base",
      "_model_module_version": "1.2.0",
      "_model_name": "LayoutModel",
      "_view_count": null,
      "_view_module": "@jupyter-widgets/base",
      "_view_module_version": "1.2.0",
      "_view_name": "LayoutView",
      "align_content": null,
      "align_items": null,
      "align_self": null,
      "border": null,
      "bottom": null,
      "display": null,
      "flex": null,
      "flex_flow": null,
      "grid_area": null,
      "grid_auto_columns": null,
      "grid_auto_flow": null,
      "grid_auto_rows": null,
      "grid_column": null,
      "grid_gap": null,
      "grid_row": null,
      "grid_template_areas": null,
      "grid_template_columns": null,
      "grid_template_rows": null,
      "height": null,
      "justify_content": null,
      "justify_items": null,
      "left": null,
      "margin": null,
      "max_height": null,
      "max_width": null,
      "min_height": null,
      "min_width": null,
      "object_fit": null,
      "object_position": null,
      "order": null,
      "overflow": null,
      "overflow_x": null,
      "overflow_y": null,
      "padding": null,
      "right": null,
      "top": null,
      "visibility": null,
      "width": null
     }
    },
    "d5faaf8d200a4bbf9c1e9677af8fe257": {
     "model_module": "@jupyter-widgets/base",
     "model_module_version": "1.2.0",
     "model_name": "LayoutModel",
     "state": {
      "_model_module": "@jupyter-widgets/base",
      "_model_module_version": "1.2.0",
      "_model_name": "LayoutModel",
      "_view_count": null,
      "_view_module": "@jupyter-widgets/base",
      "_view_module_version": "1.2.0",
      "_view_name": "LayoutView",
      "align_content": null,
      "align_items": null,
      "align_self": null,
      "border": null,
      "bottom": null,
      "display": null,
      "flex": null,
      "flex_flow": null,
      "grid_area": null,
      "grid_auto_columns": null,
      "grid_auto_flow": null,
      "grid_auto_rows": null,
      "grid_column": null,
      "grid_gap": null,
      "grid_row": null,
      "grid_template_areas": null,
      "grid_template_columns": null,
      "grid_template_rows": null,
      "height": null,
      "justify_content": null,
      "justify_items": null,
      "left": null,
      "margin": null,
      "max_height": null,
      "max_width": null,
      "min_height": null,
      "min_width": null,
      "object_fit": null,
      "object_position": null,
      "order": null,
      "overflow": null,
      "overflow_x": null,
      "overflow_y": null,
      "padding": null,
      "right": null,
      "top": null,
      "visibility": null,
      "width": null
     }
    },
    "e2ad8a86c24c419581c204fd2ae2ba18": {
     "model_module": "@jupyter-widgets/base",
     "model_module_version": "1.2.0",
     "model_name": "LayoutModel",
     "state": {
      "_model_module": "@jupyter-widgets/base",
      "_model_module_version": "1.2.0",
      "_model_name": "LayoutModel",
      "_view_count": null,
      "_view_module": "@jupyter-widgets/base",
      "_view_module_version": "1.2.0",
      "_view_name": "LayoutView",
      "align_content": null,
      "align_items": null,
      "align_self": null,
      "border": null,
      "bottom": null,
      "display": null,
      "flex": null,
      "flex_flow": null,
      "grid_area": null,
      "grid_auto_columns": null,
      "grid_auto_flow": null,
      "grid_auto_rows": null,
      "grid_column": null,
      "grid_gap": null,
      "grid_row": null,
      "grid_template_areas": null,
      "grid_template_columns": null,
      "grid_template_rows": null,
      "height": null,
      "justify_content": null,
      "justify_items": null,
      "left": null,
      "margin": null,
      "max_height": null,
      "max_width": null,
      "min_height": null,
      "min_width": null,
      "object_fit": null,
      "object_position": null,
      "order": null,
      "overflow": null,
      "overflow_x": null,
      "overflow_y": null,
      "padding": null,
      "right": null,
      "top": null,
      "visibility": null,
      "width": null
     }
    }
   }
  }
 },
 "nbformat": 4,
 "nbformat_minor": 1
}
